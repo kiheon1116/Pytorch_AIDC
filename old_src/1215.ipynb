{
 "cells": [
  {
   "cell_type": "code",
   "execution_count": 5,
   "metadata": {},
   "outputs": [
    {
     "name": "stdout",
     "output_type": "stream",
     "text": [
      "torch.float16\n",
      "[13517 12902 11878]\n",
      "[-51  52 102  50 102  46]\n"
     ]
    }
   ],
   "source": [
    "import torch \n",
    "import numpy as np \n",
    "a = torch.tensor([0.3,0.2,0.1]).half()\n",
    "print(a.dtype)\n",
    "\n",
    "b = a.numpy().view(np.int16)\n",
    "c = a.numpy().view(np.int8)\n",
    "print(b)\n",
    "print(c)"
   ]
  }
 ],
 "metadata": {
  "kernelspec": {
   "display_name": "Python 3.9.13 ('1031_kkh': conda)",
   "language": "python",
   "name": "python3"
  },
  "language_info": {
   "codemirror_mode": {
    "name": "ipython",
    "version": 3
   },
   "file_extension": ".py",
   "mimetype": "text/x-python",
   "name": "python",
   "nbconvert_exporter": "python",
   "pygments_lexer": "ipython3",
   "version": "3.9.13"
  },
  "orig_nbformat": 4,
  "vscode": {
   "interpreter": {
    "hash": "f584f2a6c3493bc5ad3f9a7fda70fca86566a62a439156976e7315d3ef22a065"
   }
  }
 },
 "nbformat": 4,
 "nbformat_minor": 2
}
