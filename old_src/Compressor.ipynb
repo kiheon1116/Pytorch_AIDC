{
 "cells": [
  {
   "cell_type": "code",
   "execution_count": 3,
   "metadata": {},
   "outputs": [],
   "source": [
    "import numpy as np\n",
    "import math\n",
    "import time \n",
    "import sys\n",
    "import torch\n",
    "import os\n",
    "\n",
    "from multiprocessing import pool\n",
    "\n",
    "def SR(block):\n",
    "    # sign reduction\n",
    "    # 128B -> 64B\n",
    "    # 64bit*16burst에서 , 16bit짜리 word 기준, 상위 9bit 동일하면 상위 8bit 제거.\n",
    "    # 즉, 1024bit 기준. 16bit*64burst, data%16 값이 0 ~ 9까지 값이 동일하면 data에서 하위 8bit씩만을 사용.\n",
    "    reduct_block = np.logical_or()\n",
    "\n",
    "\n",
    "def SR(block):\n",
    "    reduct_block = np.logical_or(block < 128, block > 65407)\n",
    "    idx_block = np.where(block > 65407)[0]\n",
    "    dup_block = block.copy()\n",
    "    outputcode = np.array([], dtype=datatype)\n",
    "    if np.all(reduct_block == True):\n",
    "        if (block[0] < 64 or block[0] > 65471):\n",
    "            ret_flag = 1\n",
    "        else:\n",
    "            ret_flag = 0\n",
    "    else:\n",
    "        ret_flag = 0\n",
    "    \n",
    "    if (dup_block[0] > 65407):\n",
    "        dup_block[0] -= 128\n",
    "    dup_block = dup_block.astype(np.uint8)\n",
    "    \n",
    "    for idx in range(len(dup_block)):\n",
    "        if idx == 0:\n",
    "            outputcode = np.concatenate((outputcode, np.array([1], dtype=datatype), toBinary(dup_block[idx], 7)[-7:]), axis=None)\n",
    "        else:\n",
    "            outputcode = np.concatenate((outputcode, toBinary(dup_block[idx], 8)), axis=None)\n",
    "    \n",
    "    return outputcode, ret_flag\n"
   ]
  }
 ],
 "metadata": {
  "kernelspec": {
   "display_name": "Python 3.9.13 ('1031_kkh': conda)",
   "language": "python",
   "name": "python3"
  },
  "language_info": {
   "codemirror_mode": {
    "name": "ipython",
    "version": 3
   },
   "file_extension": ".py",
   "mimetype": "text/x-python",
   "name": "python",
   "nbconvert_exporter": "python",
   "pygments_lexer": "ipython3",
   "version": "3.9.13"
  },
  "orig_nbformat": 4,
  "vscode": {
   "interpreter": {
    "hash": "f584f2a6c3493bc5ad3f9a7fda70fca86566a62a439156976e7315d3ef22a065"
   }
  }
 },
 "nbformat": 4,
 "nbformat_minor": 2
}
