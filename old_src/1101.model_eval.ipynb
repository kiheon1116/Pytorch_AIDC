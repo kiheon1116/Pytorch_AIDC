{
 "cells": [
  {
   "cell_type": "code",
   "execution_count": 2,
   "metadata": {},
   "outputs": [
    {
     "name": "stderr",
     "output_type": "stream",
     "text": [
      "100%|██████████| 782/782 [22:11<00:00,  1.70s/it]"
     ]
    },
    {
     "name": "stdout",
     "output_type": "stream",
     "text": [
      "tensor(80.6100)\n"
     ]
    },
    {
     "name": "stderr",
     "output_type": "stream",
     "text": [
      "\n"
     ]
    }
   ],
   "source": [
    "import numpy as np \n",
    "import torch\n",
    "import torchvision.models as models\n",
    "import torchvision.datasets as dsets\n",
    "from torch.utils.data import DataLoader \n",
    "\n",
    "\n",
    "from tqdm import tqdm \n",
    "\n",
    "\n",
    "torch.backends.cuda.matmul.allow_tf32 = False\n",
    "torch.backends.cuda.matmul.allow_fp16_reduced_precision_reduction = False\n",
    "torch.backends.cudnn.enabled = True\n",
    "torch.backends.cudnn.allow_tf32 = False\n",
    "torch.backends.cudnn.deterministic = True\n",
    "torch.backends.cudnn.benchmark = False\n",
    "\n",
    "# model = models.resnet50(weights=models.ResNet50_Weights.IMAGENET1K_V1).to('cuda')\n",
    "# model = models.vgg19(weights=models.VGG19_Weights.IMAGENET1K_V1).to('cuda')\n",
    "# model = models.mobilenet_v2(weights=models.MobileNet_V2_Weights.IMAGENET1K_V1).to('cuda')\n",
    "# model = models.efficientnet_b2(weights=models.EfficientNet_B2_Weights.IMAGENET1K_V1).to('cuda')\n",
    "model = models.efficientnet_b2(weights=models.EfficientNet_B2_Weights.IMAGENET1K_V1)\n",
    "# FP16\n",
    "model.half()\n",
    "\n",
    "for name, param in model.named_parameters():\n",
    "     Data_shape = param.shape\n",
    "     #FP16, FP32\n",
    "     #print(param.view(torch.uint8).view(-1))\n",
    "     \n",
    "     Data_1d = param.view(-1)\n",
    "     Data_1d_int = Data_1d.view(torch.uint8) \n",
    "     \n",
    "          \n",
    "     # FP16\n",
    "     #Data_1d_int [::2] = 0   # 8bit - uint8 : 9.744    68.776\n",
    "     # print(param.view(torch.uint8).view(-1))\n",
    "     #                                       RESNET\n",
    "     # Data_1d_int[::2] &= 0x80        # 7bit - 62.592\n",
    "     # Data_1d_int[::2] &= 0xC0        # 6bit - 73.212\n",
    "     # Data_1d_int[::2] &= 0xE0        # 5bit - 73.37\n",
    "     # Data_1d_int[::2] &= 0xF0       # 4bit - 75.92 \n",
    "     # Data_1d_int[::2] &= 0xF8       # 3bit - 76.026\n",
    "     # Data_1d_int[::2] &= 0xFC        # 2bit - 76.0660\n",
    "     # Data_1d_int[::2] &= 0xFE         # 1bit - 76.112\n",
    "     \n",
    "     \n",
    "     # FP32\n",
    "     # Data_1d_int [::4] = 0\n",
    "     # Data_1d_int [1::4] = 0\n",
    "     # print(param.view(torch.uint8).view(-1))\n",
    "     \n",
    "# FP16\n",
    "model.float() \n",
    "          \n",
    "# dataset = dsets.ImageFolder(\"/media/imagenet/val\", models.ResNet50_Weights.IMAGENET1K_V1.transforms()) ### 2번째 인자, transform\n",
    "#dataset = dsets.ImageFolder(\"/media/imagenet/val\", models.VGG19_Weights.IMAGENET1K_V1.transforms()) ### 2번째 인자, transform\n",
    "# dataset = dsets.ImageFolder(\"/media/imagenet/val\", models.MobileNet_V2_Weights.IMAGENET1K_V1.transforms()) ### 2번째 인자, transform\n",
    "dataset = dsets.ImageFolder(\"/media/imagenet/val\", models.EfficientNet_B2_Weights.IMAGENET1K_V1.transforms()) ### 2번째 인자, transform\n",
    "\n",
    "loader = DataLoader(dataset= dataset, # dataset\n",
    "                   batch_size=64,   # batch size power to 2\n",
    "                   shuffle = False, # false\n",
    "                   num_workers = 8, # num_workers \n",
    "                   pin_memory=True) # pin_memory \n",
    "\n",
    "correct = 0\n",
    "total = 50000\n",
    "\n",
    "model.eval()\n",
    "\n",
    "for input, label in tqdm(loader):\n",
    "    input = input#.cuda(non_blocking=True)\n",
    "    label = label#.cuda(non_blocking=True)\n",
    "    output = model(input)\n",
    "    pred = torch.argmax(output, 1)\n",
    "    correct += (pred == label).int().sum()\n",
    "acc1 = correct / total * 100\n",
    "\n",
    "print(acc1)"
   ]
  },
  {
   "cell_type": "code",
   "execution_count": null,
   "metadata": {},
   "outputs": [],
   "source": []
  }
 ],
 "metadata": {
  "kernelspec": {
   "display_name": "Python 3.9.13 ('1031_kkh': conda)",
   "language": "python",
   "name": "python3"
  },
  "language_info": {
   "codemirror_mode": {
    "name": "ipython",
    "version": 3
   },
   "file_extension": ".py",
   "mimetype": "text/x-python",
   "name": "python",
   "nbconvert_exporter": "python",
   "pygments_lexer": "ipython3",
   "version": "3.9.13"
  },
  "orig_nbformat": 4,
  "vscode": {
   "interpreter": {
    "hash": "f584f2a6c3493bc5ad3f9a7fda70fca86566a62a439156976e7315d3ef22a065"
   }
  }
 },
 "nbformat": 4,
 "nbformat_minor": 2
}
