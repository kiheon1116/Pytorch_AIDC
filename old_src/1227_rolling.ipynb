{
 "cells": [
  {
   "cell_type": "code",
   "execution_count": null,
   "metadata": {},
   "outputs": [],
   "source": [
    "import torch\n",
    "\n",
    "def rolling_index(x_torch,flag,length):\n",
    "    lossy_result = x_torch.reshape(-1,length)*(~flag) + (flag)*1\n",
    "    lossless = flag\n",
    "    flag_torch = torch.from_numpy(flag)\n",
    "\n",
    "    rolling = (~flag_torch)&(lossy_result == 0x0000)\n",
    "    rolling_0 = (~flag_torch)&(((lossy_result > 0x0000) & (lossy_result < 128)) | ((lossy_result <= -1) & (lossy_result >= -128)))#.view(np.int16)\n",
    "    rolling_1 = (~flag_torch)&(((lossy_result >= 128) & (lossy_result < 256)) | ((lossy_result <= -129) & (lossy_result >= -256)))#.view(np.int16)\n",
    "    rolling_2 = (~flag_torch)&(((lossy_result >= 256) & (lossy_result < 512)) | ((lossy_result <= -257) & (lossy_result >= -512)))#.view(np.int16)\n",
    "    rolling_3 = (~flag_torch)&(((lossy_result >= 512) & (lossy_result < 1024)) | ((lossy_result <= -513) & (lossy_result >= -1024)))#.view(np.int16)\n",
    "    rolling_4 = (~flag_torch)&(((lossy_result >= 1024) & (lossy_result < 2048)) | ((lossy_result <= -1025) & (lossy_result >= -2048)))#.view(np.int16)\n",
    "    rolling_5 = (~flag_torch)&(((lossy_result >= 2048) & (lossy_result < 4096)) | ((lossy_result <= -2049) & (lossy_result >= -4096)))#.view(np.int16)\n",
    "    rolling_6 = (~flag_torch)&(((lossy_result >= 4096) & (lossy_result < 8192)) | ((lossy_result <= -4097) & (lossy_result >= -8192)))#.view(np.int16)\n",
    "    rolling_7 = (~flag_torch)&(((lossy_result >= 8192) & (lossy_result < 16384)) | ((lossy_result <= -8193) & (lossy_result >= -16384)))#.view(np.int16)\n",
    "    rolling_8 = (~flag_torch)&(((lossy_result >= 16384) & (lossy_result < 32767)) | ((lossy_result <= -16385) & (lossy_result >= -32768)))#.view(np.int16)\n",
    "    rolling_9 = (~flag_torch)&((lossy_result == 32767) | (lossy_result == -32768) )#.view(np.int16)\n",
    "\n",
    "\n",
    "    index = rolling*11+rolling_0*1+rolling_1*2+rolling_2*3+rolling_3*4+rolling_4*5+rolling_5*6+rolling_6*7+rolling_7*8+rolling_8*9+rolling_9*10\n",
    "    return index.type(torch.int16)\n",
    "\n",
    "\n",
    "def shift(x_torch, flag, length):\n",
    "    shift_index_per_word = rolling_index(x_torch,flag,length)  \n",
    "    flag_torch = torch.from_numpy(flag)\n",
    "    shift_index_per_64 = shift_index_per_word.reshape(-1,4)\n",
    "    \n",
    "    "
   ]
  }
 ],
 "metadata": {
  "kernelspec": {
   "display_name": "pytorch",
   "language": "python",
   "name": "python3"
  },
  "language_info": {
   "name": "python",
   "version": "3.9.15 (main, Nov 24 2022, 14:31:59) \n[GCC 11.2.0]"
  },
  "orig_nbformat": 4,
  "vscode": {
   "interpreter": {
    "hash": "e7d77a95f3d58b5bd9db2cf955fc1e965e861d575bf6186ea51f9a8760fb19aa"
   }
  }
 },
 "nbformat": 4,
 "nbformat_minor": 2
}
