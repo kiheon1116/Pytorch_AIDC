{
 "cells": [
  {
   "cell_type": "code",
   "execution_count": 1,
   "metadata": {},
   "outputs": [
    {
     "name": "stderr",
     "output_type": "stream",
     "text": [
      "/home/kkh/anaconda3/envs/1031_kkh/lib/python3.9/site-packages/tqdm/auto.py:22: TqdmWarning: IProgress not found. Please update jupyter and ipywidgets. See https://ipywidgets.readthedocs.io/en/stable/user_install.html\n",
      "  from .autonotebook import tqdm as notebook_tqdm\n",
      "100%|██████████| 782/782 [00:48<00:00, 16.05it/s]\n"
     ]
    },
    {
     "name": "stdout",
     "output_type": "stream",
     "text": [
      "tensor(0.5500, device='cuda:0')\n"
     ]
    },
    {
     "ename": "",
     "evalue": "",
     "output_type": "error",
     "traceback": [
      "\u001b[1;31m현재 셀 또는 이전 셀에서 코드를 실행하는 동안 Kernel이 충돌했습니다. 셀의 코드를 검토하여 오류의 가능한 원인을 식별하세요. 자세한 내용을 보려면 <a href='https://aka.ms/vscodeJupyterKernelCrash'> 여기 </a> 를 클릭하세요. 자세한 내용은 Jupyter <a href='command:jupyter.viewOutput'>로그</a>를 참조하세요."
     ]
    }
   ],
   "source": [
    "import numpy as np \n",
    "import torch\n",
    "import torchvision.models as models\n",
    "import torchvision.datasets as dsets\n",
    "import torch.nn as nn\n",
    "from torch.utils.data import DataLoader\n",
    "from model import Execution, FeatureExtractor\n",
    "\n",
    "from tqdm import tqdm \n",
    "\n",
    "torch.backends.cuda.matmul.allow_tf32 = False\n",
    "torch.backends.cuda.matmul.allow_fp16_reduced_precision_reduction = False\n",
    "torch.backends.cudnn.enabled = True\n",
    "torch.backends.cudnn.allow_tf32 = False\n",
    "torch.backends.cudnn.deterministic = True\n",
    "torch.backends.cudnn.benchmark = False\n",
    "\n",
    "\n",
    "# init = np.zeros((64,3,7,7))\n",
    "# Data = np.array(init, dtype=np.float16)\n",
    "# print(Data.shape)\n",
    "\n",
    "\n",
    "model = models.resnet50(weights=models.ResNet50_Weights.IMAGENET1K_V1).to('cuda')\n",
    "#print(model) \n",
    "\n",
    "#verbose_resnet = \n",
    "#Execution(models.resnet50().to('cuda'))\n",
    "#dummy_input = torch.ones(10,3,224,224)\n",
    "# _ = verbose_resnet(dummy_input)\n",
    "\n",
    "resnet_features = FeatureExtractor(model, layers = [\"conv1\",\"bn1\",\"relu\",\"maxpool\",\"layer1\",\"layer2\",\"layer3\",\"layer4\",\"avgpool\",\"fc\"])\n",
    "# features = resnet_features(dummy_input)\n",
    "\n",
    "#print({name: output for name, output in features.items()})\n",
    "\n",
    "\n",
    "for name, param in model.named_parameters():\n",
    "     Data_shape = param.shape\n",
    "     #FP16, FP32\n",
    "     #print(param.view(torch.uint8).view(-1))\n",
    "     \n",
    "     Data_1d = param.view(-1)\n",
    "     Data_1d_int = Data_1d.view(torch.uint8)\n",
    "     \n",
    "dataset = dsets.ImageFolder(\"/media/imagenet/val\", models.ResNet50_Weights.IMAGENET1K_V1.transforms()) ### 2번째 인자, transform\n",
    "loader = DataLoader(dataset= dataset, # dataset\n",
    "                   batch_size=64,   # batch size power to 2\n",
    "                   shuffle = False, # false\n",
    "                   num_workers = 8, # num_workers \n",
    "                   pin_memory=True) # pin_memory \n",
    "\n",
    "correct = 0\n",
    "total = 50000\n",
    "\n",
    "\n",
    "model.eval()\n",
    "\n",
    "for input, label in tqdm(loader):\n",
    "    input = input.cuda(non_blocking=True)\n",
    "    label = label.cuda(non_blocking=True) \n",
    "    output = resnet_features(input)\n",
    "    \n",
    "    #output = model(input)    \n",
    "    pred = torch.argmax(output, 1)\n",
    "    correct += (pred == label).int().sum()\n",
    "acc1 = correct / total * 100\n",
    "\n",
    "print(acc1)"
   ]
  },
  {
   "cell_type": "code",
   "execution_count": 2,
   "metadata": {},
   "outputs": [
    {
     "name": "stdout",
     "output_type": "stream",
     "text": [
      "tensor([[ 0.1130,  0.0874, -0.1723, -0.0508,  0.0868,  0.0694,  0.0226,  0.2247,\n",
      "         -0.0240,  0.0072, -0.2114,  0.1505,  0.1794,  0.0358, -0.1231,  0.0392,\n",
      "          0.0421,  0.0423,  0.0896,  0.0778,  0.0099, -0.0109,  0.0694,  0.0718,\n",
      "          0.0120, -0.0319,  0.1469,  0.0471,  0.0532, -0.0952,  0.1329, -0.0057,\n",
      "          0.0612, -0.0632,  0.1643, -0.0476, -0.0107, -0.1791, -0.0226, -0.0346,\n",
      "         -0.1342,  0.0498,  0.1445,  0.0906,  0.0174, -0.1219, -0.1045, -0.0325,\n",
      "         -0.0824,  0.2227, -0.0169,  0.0537, -0.0330,  0.0370,  0.0447, -0.0817,\n",
      "         -0.0727,  0.0440, -0.1772, -0.0134, -0.0142, -0.0306, -0.1517,  0.0010,\n",
      "         -0.0994,  0.1485, -0.1067,  0.0546,  0.2714,  0.1857, -0.0979, -0.3056,\n",
      "          0.0518,  0.0942, -0.0892, -0.0907,  0.0079,  0.0082,  0.0886, -0.0502,\n",
      "         -0.1103, -0.0112,  0.0397, -0.0341]])\n"
     ]
    }
   ],
   "source": [
    "import torch\n",
    "import torch.nn as nn\n",
    "import torch.nn.functional as F\n",
    "\n",
    "class MyModel(nn.Module):\n",
    "    def __init__(self):\n",
    "        super(MyModel, self).__init__()\n",
    "        self.cl1 = nn.Linear(25, 60)\n",
    "        self.cl2 = nn.Linear(60, 16)\n",
    "        self.fc1 = nn.Linear(16, 120)\n",
    "        self.fc2 = nn.Linear(120, 84)\n",
    "        self.fc3 = nn.Linear(84, 10)\n",
    "        \n",
    "    def forward(self, x):\n",
    "        x = F.relu(self.cl1(x))\n",
    "        x = F.relu(self.cl2(x))\n",
    "        x = F.relu(self.fc1(x))\n",
    "        x = F.relu(self.fc2(x))\n",
    "        x = F.log_softmax(self.fc3(x), dim=1)\n",
    "        return x\n",
    "\n",
    "\n",
    "activation = {}\n",
    "def get_activation(name):\n",
    "    def hook(model, input, output):\n",
    "        activation[name] = output.detach()\n",
    "    return hook\n",
    "\n",
    "\n",
    "model = MyModel()\n",
    "model.fc2.register_forward_hook(get_activation('fc2'))\n",
    "x = torch.randn(1, 25)\n",
    "output = model(x)\n",
    "print(activation['fc2'])"
   ]
  }
 ],
 "metadata": {
  "kernelspec": {
   "display_name": "Python 3.9.13 ('1031_kkh': conda)",
   "language": "python",
   "name": "python3"
  },
  "language_info": {
   "codemirror_mode": {
    "name": "ipython",
    "version": 3
   },
   "file_extension": ".py",
   "mimetype": "text/x-python",
   "name": "python",
   "nbconvert_exporter": "python",
   "pygments_lexer": "ipython3",
   "version": "3.9.13"
  },
  "orig_nbformat": 4,
  "vscode": {
   "interpreter": {
    "hash": "f584f2a6c3493bc5ad3f9a7fda70fca86566a62a439156976e7315d3ef22a065"
   }
  }
 },
 "nbformat": 4,
 "nbformat_minor": 2
}
