{
 "cells": [
  {
   "cell_type": "code",
   "execution_count": 3,
   "metadata": {},
   "outputs": [
    {
     "name": "stdout",
     "output_type": "stream",
     "text": [
      "tensor([[0., 0., 0.],\n",
      "        [0., 0., 0.]])\n"
     ]
    }
   ],
   "source": [
    "import torch\n",
    "x = torch.zeros([2,3])\n",
    "print(x)"
   ]
  },
  {
   "cell_type": "code",
   "execution_count": 142,
   "metadata": {},
   "outputs": [
    {
     "name": "stdout",
     "output_type": "stream",
     "text": [
      "tensor([[[ -1]],\n",
      "\n",
      "        [[ -2]],\n",
      "\n",
      "        [[ -4]],\n",
      "\n",
      "        [[ -8]],\n",
      "\n",
      "        [[-16]],\n",
      "\n",
      "        [[-32]],\n",
      "\n",
      "        [[-64]],\n",
      "\n",
      "        [[  0]],\n",
      "\n",
      "        [[  0]],\n",
      "\n",
      "        [[  0]]])\n",
      "mask_flag tensor([[[0, 0, 0, 0],\n",
      "         [0, 0, 0, 0]],\n",
      "\n",
      "        [[0, 0, 0, 0],\n",
      "         [1, 0, 0, 0]],\n",
      "\n",
      "        [[0, 0, 0, 0],\n",
      "         [0, 0, 0, 0]],\n",
      "\n",
      "        [[0, 0, 0, 0],\n",
      "         [0, 1, 0, 0]],\n",
      "\n",
      "        [[0, 0, 0, 0],\n",
      "         [0, 0, 0, 0]],\n",
      "\n",
      "        [[0, 0, 0, 0],\n",
      "         [0, 0, 1, 0]],\n",
      "\n",
      "        [[0, 1, 0, 0],\n",
      "         [0, 0, 0, 0]],\n",
      "\n",
      "        [[0, 0, 0, 0],\n",
      "         [0, 0, 0, 1]],\n",
      "\n",
      "        [[1, 0, 0, 0],\n",
      "         [0, 0, 0, 0]],\n",
      "\n",
      "        [[0, 0, 0, 0],\n",
      "         [0, 0, 0, 0]]], dtype=torch.int16) torch.Size([10, 2, 4])\n",
      "mask_block tensor([[  0, -64,   0,   0],\n",
      "        [ -2,  -8, -32,   0]]) torch.Size([2, 4])\n"
     ]
    },
    {
     "data": {
      "text/plain": [
       "(tensor([[  0, -64,   0,   0],\n",
       "         [ -2,  -8, -32,   0]]),\n",
       " tensor([[ 0, 32,  0,  0],\n",
       "         [ 1,  4, 16,  0]]))"
      ]
     },
     "execution_count": 142,
     "metadata": {},
     "output_type": "execute_result"
    }
   ],
   "source": [
    "import torch\n",
    "\n",
    "def shift_to_mask(x_torch, dtype):\n",
    "    x_shape = x_torch.shape\n",
    "    \n",
    "    dtype_filter    = torch.arange(10) < (17 - dtype)\n",
    "    \n",
    "    # [0xffff, 0xfffe, 0xfffc, 0xfff8, 0xfff0, 0xffe0, 0xffc0, 0xff80, 0xff00, 0xfe00]\n",
    "    mask            = torch.tensor([-(1 << i) for i in range(10)]) * dtype_filter\n",
    "    \n",
    "    # [0x0000, 0x0001, 0x0002, 0x0004, 0x0008, 0x0010, 0x0020, 0x0040, 0x0080, 0x0100]\n",
    "    offset          = torch.tensor([(256 >> (9 - i)) for i in range(10)]) * dtype_filter\n",
    "    \n",
    "    mask_flag = torch.zeros((10, x_shape[0], x_shape[1]), dtype=torch.int16)\n",
    "    for idx in range(10):\n",
    "        mask_flag[idx] = (torch.abs(x_torch) == (idx + 1))\n",
    "\n",
    "    print(mask.reshape(-1,1,1))\n",
    "    print(\"mask_flag\",mask_flag, mask_flag.shape)\n",
    "    \n",
    "    mask_block = torch.sum(mask_flag * mask.reshape(-1,1,1), dim=0)\n",
    "    offset_block = torch.sum(mask_flag * offset.reshape(-1,1,1), dim=0)\n",
    "    print(\"mask_block\",mask_block,mask_block.shape)\n",
    "\n",
    "    return mask_block, offset_block\n",
    "    \n",
    "x_torch = torch.tensor([[9, 7, 0, 0],\n",
    "                        [2, 4, 6, 8]], dtype=torch.int16) \n",
    "# dtype = 10 이므로, rolling이 경우의 수 7가지 이므로, \n",
    "# 7이상의 값은 0 나머지는 각각의 rolling 값에 따라0xff(-1) 0xfe(-2) 순서로 값을 가짐.\n",
    "shift_to_mask(x_torch, 10)"
   ]
  },
  {
   "cell_type": "code",
   "execution_count": 42,
   "metadata": {},
   "outputs": [
    {
     "name": "stdout",
     "output_type": "stream",
     "text": [
      "tensor([[[[ 0,  0,  0,  0,  0],\n",
      "          [ 0,  1,  2,  3,  4],\n",
      "          [ 0,  2,  4,  6,  8]],\n",
      "\n",
      "         [[ 0,  0,  0,  0,  0],\n",
      "          [ 5,  6,  7,  8,  9],\n",
      "          [10, 12, 14, 16, 18]]],\n",
      "\n",
      "\n",
      "        [[[ 0,  3,  6,  9, 12],\n",
      "          [ 0,  4,  8, 12, 16],\n",
      "          [ 0,  5, 10, 15, 20]],\n",
      "\n",
      "         [[15, 18, 21, 24, 27],\n",
      "          [20, 24, 28, 32, 36],\n",
      "          [25, 30, 35, 40, 45]]]])\n"
     ]
    }
   ],
   "source": [
    "import torch \n",
    "\n",
    "x = torch.arange(6).reshape(2,1,3,1)\n",
    "y = torch.arange(10).reshape(1,2,1,5)\n",
    "\n",
    "print(x * y)\n",
    "\n",
    "# print((x * y).shape)"
   ]
  },
  {
   "cell_type": "code",
   "execution_count": null,
   "metadata": {},
   "outputs": [],
   "source": [
    "import torch\n",
    "\n",
    "def rolling_total(x_torch,length,dtype):\n",
    "    x_shape = x_torch.shape\n",
    "\n",
    "    rolling_flag = torch.zeros((10, x_shape[0], x_shape[1]), dtype=torch.int16)\n",
    "    for idx in range(9):\n",
    "        x_torch_value = (x_torch >= 2**(idx+6)) & (x_torch < 2**(idx+7)) | (x_torch < -(2**(idx+6))) & (x_torch >= -(2**(idx+7)))\n",
    "        rolling_flag[idx] = ((x_torch_value) == True)  # rolling_value 가 1,-1d이면, idx=0에 저장.\n"
   ]
  },
  {
   "cell_type": "code",
   "execution_count": 53,
   "metadata": {},
   "outputs": [
    {
     "ename": "SyntaxError",
     "evalue": "invalid syntax (2810875026.py, line 2)",
     "output_type": "error",
     "traceback": [
      "\u001b[0;36m  Cell \u001b[0;32mIn[53], line 2\u001b[0;36m\u001b[0m\n\u001b[0;31m    import torch-dct as dct\u001b[0m\n\u001b[0m                ^\u001b[0m\n\u001b[0;31mSyntaxError\u001b[0m\u001b[0;31m:\u001b[0m invalid syntax\n"
     ]
    }
   ],
   "source": [
    "import torch\n",
    "import torch_dct as dct\n",
    "a=torch.tensor([0,1,2,3])\n",
    "b=a.type(torch.int16)\n",
    "# c=a.int16()\n",
    "print(torch.__version__)"
   ]
  },
  {
   "cell_type": "code",
   "execution_count": 185,
   "metadata": {},
   "outputs": [
    {
     "name": "stdout",
     "output_type": "stream",
     "text": [
      "x_numpy [[ 9  7  0  9  7  0  9  7  0  9  7  0]\n",
      " [ 2  4  8  2  4  8  2  4  8  2  4  8]\n",
      " [11 12 14 11 12 14 11 12 14 11 12 14]\n",
      " [ 5  8 25  5  8 25  5  8 25  5  8 25]]\n",
      "select value [ 9  9  2  2 11 11  5  5] -4\n",
      "[[ 9  7  0  8  7  0  9  7  0  8  7  0]\n",
      " [ 2  4  8  0  4  8  2  4  8  0  4  8]\n",
      " [11 12 14  8 12 14 11 12 14  8 12 14]\n",
      " [ 5  8 25  4  8 25  5  8 25  4  8 25]]\n"
     ]
    }
   ],
   "source": [
    "import torch\n",
    "import numpy as np\n",
    "def display_per_block(x,length,value,select_block_index):\n",
    "    x_numpy = x.numpy()\n",
    "    x_shape = x_numpy.shape\n",
    "    print(x_numpy)\n",
    "    x_2D = x_numpy.reshape(-1,length)\n",
    "    selected_value = x_2D[:,select_block_index]\n",
    "    print(\"select value\", selected_value, value)\n",
    "    x_2D[:,select_block_index] = selected_value & value\n",
    "    x_result = x_2D.reshape(x_shape)\n",
    "    return x_result\n",
    "     \n",
    "\n",
    "x_torch = torch.tensor([[9, 7, 0, 9, 7, 0, 9, 7, 0, 9, 7, 0],\n",
    "                        [2, 4, 8, 2, 4, 8, 2, 4, 8, 2, 4, 8],\n",
    "                        [11, 12, 14, 11, 12, 14, 11, 12, 14, 11, 12, 14],\n",
    "                        [5, 8, 25, 5, 8, 25, 5, 8, 25, 5, 8, 25]], dtype=torch.int16)\n",
    "x_numpy = x_torch\n",
    "\n",
    "\n",
    "one_hot =display_per_block(x_numpy,6,-4,3)\n",
    "print(one_hot)"
   ]
  },
  {
   "cell_type": "code",
   "execution_count": null,
   "metadata": {},
   "outputs": [],
   "source": [
    "    # mask_default = [-1,0xffff,-1, ..., dtype = np.int64]\n",
    "    # mask_default = np.array([ value for i in range(length)]) * block_filter       \n",
    "    # mask_default_index_even = np.array([ value if i%2==0 else 0 for i in range(length)]) * block_filter\n",
    "    # mask_default_index_odd  = np.array([ value if i%2==1 else 0 for i in range(length)]) * block_filter     \n",
    "    # mask_incr = [0xffffffff, 0xfffffffe, ..., dtype = np.int64]\n",
    "    # mask_incr = np.array([(value << i) for i in range(length)]) * block_filter  \n",
    "    # mask_decr = np.array([(value << ((length-1)-i)) for i in range(length)]) * block_filter  \n"
   ]
  }
 ],
 "metadata": {
  "kernelspec": {
   "display_name": "pytorch",
   "language": "python",
   "name": "python3"
  },
  "language_info": {
   "codemirror_mode": {
    "name": "ipython",
    "version": 3
   },
   "file_extension": ".py",
   "mimetype": "text/x-python",
   "name": "python",
   "nbconvert_exporter": "python",
   "pygments_lexer": "ipython3",
   "version": "3.9.15"
  },
  "orig_nbformat": 4,
  "vscode": {
   "interpreter": {
    "hash": "e7d77a95f3d58b5bd9db2cf955fc1e965e861d575bf6186ea51f9a8760fb19aa"
   }
  }
 },
 "nbformat": 4,
 "nbformat_minor": 2
}
