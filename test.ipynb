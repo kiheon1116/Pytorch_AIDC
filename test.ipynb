{
 "cells": [
  {
   "cell_type": "code",
   "execution_count": 3,
   "metadata": {},
   "outputs": [
    {
     "name": "stdout",
     "output_type": "stream",
     "text": [
      "tensor([[0., 0., 0.],\n",
      "        [0., 0., 0.]])\n"
     ]
    }
   ],
   "source": [
    "import torch\n",
    "x = torch.zeros([2,3])\n",
    "print(x)"
   ]
  },
  {
   "cell_type": "code",
   "execution_count": 46,
   "metadata": {},
   "outputs": [
    {
     "name": "stdout",
     "output_type": "stream",
     "text": [
      "tensor([[  0, -64,   0,   0],\n",
      "        [ -2,  -8, -32,   0]])\n",
      "tensor([[ 0, 32,  0,  0],\n",
      "        [ 1,  4, 16,  0]])\n",
      "0x20\n"
     ]
    },
    {
     "data": {
      "text/plain": [
       "(tensor([[  0, -64,   0,   0],\n",
       "         [ -2,  -8, -32,   0]]),\n",
       " tensor([[ 0, 32,  0,  0],\n",
       "         [ 1,  4, 16,  0]]))"
      ]
     },
     "execution_count": 46,
     "metadata": {},
     "output_type": "execute_result"
    }
   ],
   "source": [
    "import torch\n",
    "\n",
    "def shift_to_mask(x_torch, dtype):\n",
    "    x_shape = x_torch.shape\n",
    "    \n",
    "    dtype_filter    = torch.arange(10) < (17 - dtype)\n",
    "    mask            = torch.tensor([-(1 << i) for i in range(10)]) * dtype_filter\n",
    "    offset          = torch.tensor([(256 >> (9 - i)) for i in range(10)]) * dtype_filter\n",
    "    \n",
    "    mask_flag = torch.zeros((10, x_shape[0], x_shape[1]), dtype=torch.int16)\n",
    "    for idx in range(10):\n",
    "        mask_flag[idx] = (torch.abs(x_torch) == (idx + 1))\n",
    "\n",
    "    mask_block = torch.sum(mask_flag * mask.reshape(-1,1,1), dim=0)\n",
    "    offset_block = torch.sum(mask_flag * offset.reshape(-1,1,1), dim=0)\n",
    "\n",
    "    return mask_block, offset_block\n",
    "    \n",
    "x_torch = torch.tensor([[9, 7, 0, 0],\n",
    "                        [2, 4, 6, 8]], dtype=torch.int16)\n",
    "shift_to_mask(x_torch, 10)"
   ]
  },
  {
   "cell_type": "code",
   "execution_count": 42,
   "metadata": {},
   "outputs": [
    {
     "name": "stdout",
     "output_type": "stream",
     "text": [
      "tensor([[[[ 0,  0,  0,  0,  0],\n",
      "          [ 0,  1,  2,  3,  4],\n",
      "          [ 0,  2,  4,  6,  8]],\n",
      "\n",
      "         [[ 0,  0,  0,  0,  0],\n",
      "          [ 5,  6,  7,  8,  9],\n",
      "          [10, 12, 14, 16, 18]]],\n",
      "\n",
      "\n",
      "        [[[ 0,  3,  6,  9, 12],\n",
      "          [ 0,  4,  8, 12, 16],\n",
      "          [ 0,  5, 10, 15, 20]],\n",
      "\n",
      "         [[15, 18, 21, 24, 27],\n",
      "          [20, 24, 28, 32, 36],\n",
      "          [25, 30, 35, 40, 45]]]])\n"
     ]
    }
   ],
   "source": [
    "import torch \n",
    "\n",
    "x = torch.arange(6).reshape(2,1,3,1)\n",
    "y = torch.arange(10).reshape(1,2,1,5)\n",
    "\n",
    "print(x * y)\n",
    "\n",
    "# print((x * y).shape)"
   ]
  },
  {
   "cell_type": "code",
   "execution_count": null,
   "metadata": {},
   "outputs": [],
   "source": [
    "import torch\n",
    "\n",
    "def rolling_total(x_torch,length,dtype):\n",
    "    x_shape = x_torch.shape\n",
    "\n",
    "    rolling_flag = torch.zeros((10, x_shape[0], x_shape[1]), dtype=torch.int16)\n",
    "    for idx in range(9):\n",
    "        x_torch_value = (x_torch >= 2**(idx+6)) & (x_torch < 2**(idx+7)) | (x_torch < -(2**(idx+6))) & (x_torch >= -(2**(idx+7)))\n",
    "        rolling_flag[idx] = ((x_torch_value) == True)  # rolling_value 가 1,-1d이면, idx=0에 저장.\n"
   ]
  },
  {
   "cell_type": "code",
   "execution_count": 53,
   "metadata": {},
   "outputs": [
    {
     "ename": "SyntaxError",
     "evalue": "invalid syntax (2810875026.py, line 2)",
     "output_type": "error",
     "traceback": [
      "\u001b[0;36m  Cell \u001b[0;32mIn[53], line 2\u001b[0;36m\u001b[0m\n\u001b[0;31m    import torch-dct as dct\u001b[0m\n\u001b[0m                ^\u001b[0m\n\u001b[0;31mSyntaxError\u001b[0m\u001b[0;31m:\u001b[0m invalid syntax\n"
     ]
    }
   ],
   "source": [
    "import torch\n",
    "import torch_dct as dct\n",
    "a=torch.tensor([0,1,2,3])\n",
    "b=a.type(torch.int16)\n",
    "# c=a.int16()\n",
    "print(torch.__version__)"
   ]
  },
  {
   "cell_type": "code",
   "execution_count": 72,
   "metadata": {},
   "outputs": [
    {
     "name": "stdout",
     "output_type": "stream",
     "text": [
      "(2, 4) int16\n",
      "block_filter[cnt] 0 [1 1]\n",
      "block_filter[cnt] 1 [1 0]\n"
     ]
    }
   ],
   "source": [
    "import torch\n",
    "import numpy as np\n",
    "def display_per_block(x_numpy,length):\n",
    "     x_numpy_shape = x_numpy.shape\n",
    "     print(x_numpy.shape, x_numpy.dtype)\n",
    "     # block 개수 는 length와 관련됨.\n",
    "     # (length/2)*INT16 => 64B기준(INT16*32), => int64로 두고 shape 추가\n",
    "     block_filter = np.zeros((length, x_numpy_shape[0]), dtype = np.int16)\n",
    "     for cnt in range(length):\n",
    "          block_filter[cnt] = np.arange(length) < (length - cnt)\n",
    "          print(\"block_filter[cnt]\",cnt,block_filter[cnt])\n",
    "     \n",
    "x_torch = torch.tensor([[9, 7, 0, 0],\n",
    "                        [2, 4, 6, 8]], dtype=torch.int16)\n",
    "x_numpy = x_torch.numpy()\n",
    "display_per_block(x_numpy,2)"
   ]
  }
 ],
 "metadata": {
  "kernelspec": {
   "display_name": "pytorch",
   "language": "python",
   "name": "python3"
  },
  "language_info": {
   "codemirror_mode": {
    "name": "ipython",
    "version": 3
   },
   "file_extension": ".py",
   "mimetype": "text/x-python",
   "name": "python",
   "nbconvert_exporter": "python",
   "pygments_lexer": "ipython3",
   "version": "3.9.15"
  },
  "orig_nbformat": 4,
  "vscode": {
   "interpreter": {
    "hash": "e7d77a95f3d58b5bd9db2cf955fc1e965e861d575bf6186ea51f9a8760fb19aa"
   }
  }
 },
 "nbformat": 4,
 "nbformat_minor": 2
}
