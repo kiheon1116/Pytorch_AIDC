{
 "cells": [
  {
   "cell_type": "code",
   "execution_count": 1,
   "metadata": {},
   "outputs": [
    {
     "name": "stderr",
     "output_type": "stream",
     "text": [
      "/home/kkh/anaconda3/envs/1031_kkh/lib/python3.9/site-packages/tqdm/auto.py:22: TqdmWarning: IProgress not found. Please update jupyter and ipywidgets. See https://ipywidgets.readthedocs.io/en/stable/user_install.html\n",
      "  from .autonotebook import tqdm as notebook_tqdm\n",
      "100%|██████████| 782/782 [22:43<00:00,  1.74s/it]\n"
     ]
    },
    {
     "name": "stdout",
     "output_type": "stream",
     "text": [
      "0 th : \n",
      "tensor(8.0920)\n"
     ]
    },
    {
     "name": "stderr",
     "output_type": "stream",
     "text": [
      "100%|██████████| 782/782 [22:28<00:00,  1.72s/it]\n"
     ]
    },
    {
     "name": "stdout",
     "output_type": "stream",
     "text": [
      "1 th : \n",
      "tensor(70.6400)\n"
     ]
    },
    {
     "name": "stderr",
     "output_type": "stream",
     "text": [
      "100%|██████████| 782/782 [22:14<00:00,  1.71s/it]\n"
     ]
    },
    {
     "name": "stdout",
     "output_type": "stream",
     "text": [
      "2 th : \n",
      "tensor(78.5700)\n"
     ]
    },
    {
     "name": "stderr",
     "output_type": "stream",
     "text": [
      "100%|██████████| 782/782 [22:03<00:00,  1.69s/it]\n"
     ]
    },
    {
     "name": "stdout",
     "output_type": "stream",
     "text": [
      "3 th : \n",
      "tensor(80.0600)\n"
     ]
    },
    {
     "name": "stderr",
     "output_type": "stream",
     "text": [
      "100%|██████████| 782/782 [22:09<00:00,  1.70s/it]\n"
     ]
    },
    {
     "name": "stdout",
     "output_type": "stream",
     "text": [
      "4 th : \n",
      "tensor(80.4360)\n"
     ]
    },
    {
     "name": "stderr",
     "output_type": "stream",
     "text": [
      "100%|██████████| 782/782 [22:02<00:00,  1.69s/it]\n"
     ]
    },
    {
     "name": "stdout",
     "output_type": "stream",
     "text": [
      "5 th : \n",
      "tensor(80.5420)\n"
     ]
    },
    {
     "name": "stderr",
     "output_type": "stream",
     "text": [
      "100%|██████████| 782/782 [21:57<00:00,  1.69s/it]\n"
     ]
    },
    {
     "name": "stdout",
     "output_type": "stream",
     "text": [
      "6 th : \n",
      "tensor(80.5980)\n"
     ]
    },
    {
     "ename": "IndexError",
     "evalue": "list index out of range",
     "output_type": "error",
     "traceback": [
      "\u001b[0;31m---------------------------------------------------------------------------\u001b[0m",
      "\u001b[0;31mIndexError\u001b[0m                                Traceback (most recent call last)",
      "\u001b[1;32m/home/kkh/pytorch/1101.model_eval copy.ipynb 셀 1\u001b[0m in \u001b[0;36m<cell line: 25>\u001b[0;34m()\u001b[0m\n\u001b[1;32m     <a href='vscode-notebook-cell://ssh-remote%2Bzetta.skku.edu/home/kkh/pytorch/1101.model_eval%20copy.ipynb#W0sdnNjb2RlLXJlbW90ZQ%3D%3D?line=35'>36</a>\u001b[0m     Data_1d_int \u001b[39m=\u001b[39m Data_1d\u001b[39m.\u001b[39mview(torch\u001b[39m.\u001b[39muint8) \n\u001b[1;32m     <a href='vscode-notebook-cell://ssh-remote%2Bzetta.skku.edu/home/kkh/pytorch/1101.model_eval%20copy.ipynb#W0sdnNjb2RlLXJlbW90ZQ%3D%3D?line=38'>39</a>\u001b[0m     \u001b[39m# FP16\u001b[39;00m\n\u001b[1;32m     <a href='vscode-notebook-cell://ssh-remote%2Bzetta.skku.edu/home/kkh/pytorch/1101.model_eval%20copy.ipynb#W0sdnNjb2RlLXJlbW90ZQ%3D%3D?line=39'>40</a>\u001b[0m     \u001b[39m# Data_1d_int [::2] = 0   # 8bit - uint8 : 9.744    68.776\u001b[39;00m\n\u001b[1;32m     <a href='vscode-notebook-cell://ssh-remote%2Bzetta.skku.edu/home/kkh/pytorch/1101.model_eval%20copy.ipynb#W0sdnNjb2RlLXJlbW90ZQ%3D%3D?line=40'>41</a>\u001b[0m     \u001b[39m# print(param.view(torch.uint8).view(-1))\u001b[39;00m\n\u001b[0;32m   (...)\u001b[0m\n\u001b[1;32m     <a href='vscode-notebook-cell://ssh-remote%2Bzetta.skku.edu/home/kkh/pytorch/1101.model_eval%20copy.ipynb#W0sdnNjb2RlLXJlbW90ZQ%3D%3D?line=46'>47</a>\u001b[0m     \u001b[39m# Data_1d_int[::2] &= 0xF8       # 3bit - 76.026\u001b[39;00m\n\u001b[1;32m     <a href='vscode-notebook-cell://ssh-remote%2Bzetta.skku.edu/home/kkh/pytorch/1101.model_eval%20copy.ipynb#W0sdnNjb2RlLXJlbW90ZQ%3D%3D?line=47'>48</a>\u001b[0m     \u001b[39m# Data_1d_int[::2] &= 0xFC        # 2bit - 76.0660\u001b[39;00m\n\u001b[0;32m---> <a href='vscode-notebook-cell://ssh-remote%2Bzetta.skku.edu/home/kkh/pytorch/1101.model_eval%20copy.ipynb#W0sdnNjb2RlLXJlbW90ZQ%3D%3D?line=48'>49</a>\u001b[0m     Data_1d_int[::\u001b[39m2\u001b[39m] \u001b[39m&\u001b[39m\u001b[39m=\u001b[39m mask[i]         \u001b[39m# 1bit - 76.112\u001b[39;00m\n\u001b[1;32m     <a href='vscode-notebook-cell://ssh-remote%2Bzetta.skku.edu/home/kkh/pytorch/1101.model_eval%20copy.ipynb#W0sdnNjb2RlLXJlbW90ZQ%3D%3D?line=51'>52</a>\u001b[0m     \u001b[39m# FP32\u001b[39;00m\n\u001b[1;32m     <a href='vscode-notebook-cell://ssh-remote%2Bzetta.skku.edu/home/kkh/pytorch/1101.model_eval%20copy.ipynb#W0sdnNjb2RlLXJlbW90ZQ%3D%3D?line=52'>53</a>\u001b[0m     \u001b[39m# Data_1d_int [::4] = 0\u001b[39;00m\n\u001b[1;32m     <a href='vscode-notebook-cell://ssh-remote%2Bzetta.skku.edu/home/kkh/pytorch/1101.model_eval%20copy.ipynb#W0sdnNjb2RlLXJlbW90ZQ%3D%3D?line=53'>54</a>\u001b[0m     \u001b[39m# Data_1d_int [1::4] = 0\u001b[39;00m\n\u001b[1;32m     <a href='vscode-notebook-cell://ssh-remote%2Bzetta.skku.edu/home/kkh/pytorch/1101.model_eval%20copy.ipynb#W0sdnNjb2RlLXJlbW90ZQ%3D%3D?line=54'>55</a>\u001b[0m     \u001b[39m# print(param.view(torch.uint8).view(-1))\u001b[39;00m\n\u001b[1;32m     <a href='vscode-notebook-cell://ssh-remote%2Bzetta.skku.edu/home/kkh/pytorch/1101.model_eval%20copy.ipynb#W0sdnNjb2RlLXJlbW90ZQ%3D%3D?line=55'>56</a>\u001b[0m     \n\u001b[1;32m     <a href='vscode-notebook-cell://ssh-remote%2Bzetta.skku.edu/home/kkh/pytorch/1101.model_eval%20copy.ipynb#W0sdnNjb2RlLXJlbW90ZQ%3D%3D?line=56'>57</a>\u001b[0m \u001b[39m# FP16\u001b[39;00m\n\u001b[1;32m     <a href='vscode-notebook-cell://ssh-remote%2Bzetta.skku.edu/home/kkh/pytorch/1101.model_eval%20copy.ipynb#W0sdnNjb2RlLXJlbW90ZQ%3D%3D?line=57'>58</a>\u001b[0m model\u001b[39m.\u001b[39mfloat() \n",
      "\u001b[0;31mIndexError\u001b[0m: list index out of range"
     ]
    }
   ],
   "source": [
    "import numpy as np \n",
    "import torch\n",
    "import torchvision.models as models\n",
    "import torchvision.datasets as dsets\n",
    "from torch.utils.data import DataLoader \n",
    "\n",
    "\n",
    "from tqdm import tqdm \n",
    "\n",
    "\n",
    "torch.backends.cuda.matmul.allow_tf32 = False\n",
    "torch.backends.cuda.matmul.allow_fp16_reduced_precision_reduction = False\n",
    "torch.backends.cudnn.enabled = True\n",
    "torch.backends.cudnn.allow_tf32 = False\n",
    "torch.backends.cudnn.deterministic = True\n",
    "torch.backends.cudnn.benchmark = False\n",
    "\n",
    "# model = models.resnet50(weights=models.ResNet50_Weights.IMAGENET1K_V1).to('cuda')\n",
    "# model = models.vgg19(weights=models.VGG19_Weights.IMAGENET1K_V1).to('cuda')\n",
    "# model = models.mobilenet_v2(weights=models.MobileNet_V2_Weights.IMAGENET1K_V1).to('cuda')\n",
    "# model = models.efficientnet_b2(weights=models.EfficientNet_B2_Weights.IMAGENET1K_V1).to('cuda')\n",
    "\n",
    "\n",
    "mask = [0x80,0xC0,0xE0,0xF0,0xF8,0xFC,0xFE,0xFF]\n",
    "for i in range(7):\n",
    "    model = models.efficientnet_b2(weights=models.EfficientNet_B2_Weights.IMAGENET1K_V1)\n",
    "    # FP16\n",
    "    model.half()\n",
    "\n",
    "    for name, param in model.named_parameters():\n",
    "        Data_shape = param.shape\n",
    "        #FP16, FP32\n",
    "        #print(param.view(torch.uint8).view(-1))\n",
    "        \n",
    "        Data_1d = param.view(-1)\n",
    "        Data_1d_int = Data_1d.view(torch.uint8) \n",
    "        \n",
    "            \n",
    "        # FP16\n",
    "        # Data_1d_int [::2] = 0   # 8bit - uint8 : 9.744    68.776\n",
    "        # print(param.view(torch.uint8).view(-1))\n",
    "        #                                       RESNET\n",
    "        # Data_1d_int[::2] &= 0x80        # 7bit - 62.592\n",
    "        # Data_1d_int[::2] &= 0xC0        # 6bit - 73.212\n",
    "        # Data_1d_int[::2] &= 0xE0        # 5bit - 73.37\n",
    "        # Data_1d_int[::2] &= 0xF0       # 4bit - 75.92 \n",
    "        # Data_1d_int[::2] &= 0xF8       # 3bit - 76.026\n",
    "        # Data_1d_int[::2] &= 0xFC        # 2bit - 76.0660\n",
    "        Data_1d_int[::2] &= mask[i]         # 1bit - 76.112\n",
    "        \n",
    "        \n",
    "        # FP32\n",
    "        # Data_1d_int [::4] = 0\n",
    "        # Data_1d_int [1::4] = 0\n",
    "        # print(param.view(torch.uint8).view(-1))\n",
    "        \n",
    "    # FP16\n",
    "    model.float() \n",
    "            \n",
    "    # dataset = dsets.ImageFolder(\"/media/imagenet/val\", models.ResNet50_Weights.IMAGENET1K_V1.transforms()) ### 2번째 인자, transform\n",
    "    #dataset = dsets.ImageFolder(\"/media/imagenet/val\", models.VGG19_Weights.IMAGENET1K_V1.transforms()) ### 2번째 인자, transform\n",
    "    # dataset = dsets.ImageFolder(\"/media/imagenet/val\", models.MobileNet_V2_Weights.IMAGENET1K_V1.transforms()) ### 2번째 인자, transform\n",
    "    dataset = dsets.ImageFolder(\"/media/imagenet/val\", models.EfficientNet_B2_Weights.IMAGENET1K_V1.transforms()) ### 2번째 인자, transform\n",
    "\n",
    "    loader = DataLoader(dataset= dataset, # dataset\n",
    "                    batch_size=64,   # batch size power to 2\n",
    "                    shuffle = False, # false\n",
    "                    num_workers = 8, # num_workers \n",
    "                    pin_memory=True) # pin_memory \n",
    "\n",
    "    correct = 0\n",
    "    total = 50000\n",
    "\n",
    "    model.eval()\n",
    "\n",
    "    for input, label in tqdm(loader):\n",
    "        input = input#.cuda(non_blocking=True)\n",
    "        label = label#.cuda(non_blocking=True)\n",
    "        output = model(input)\n",
    "        pred = torch.argmax(output, 1)\n",
    "        correct += (pred == label).int().sum()\n",
    "    acc1 = correct / total * 100\n",
    "    print(i,'th : ')\n",
    "    print(acc1)"
   ]
  },
  {
   "cell_type": "code",
   "execution_count": null,
   "metadata": {},
   "outputs": [],
   "source": []
  }
 ],
 "metadata": {
  "kernelspec": {
   "display_name": "Python 3.9.13 ('1031_kkh': conda)",
   "language": "python",
   "name": "python3"
  },
  "language_info": {
   "codemirror_mode": {
    "name": "ipython",
    "version": 3
   },
   "file_extension": ".py",
   "mimetype": "text/x-python",
   "name": "python",
   "nbconvert_exporter": "python",
   "pygments_lexer": "ipython3",
   "version": "3.9.13"
  },
  "orig_nbformat": 4,
  "vscode": {
   "interpreter": {
    "hash": "f584f2a6c3493bc5ad3f9a7fda70fca86566a62a439156976e7315d3ef22a065"
   }
  }
 },
 "nbformat": 4,
 "nbformat_minor": 2
}
